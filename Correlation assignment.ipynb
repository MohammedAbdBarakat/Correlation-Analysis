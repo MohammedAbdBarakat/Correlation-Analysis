{
 "cells": [
  {
   "cell_type": "code",
   "execution_count": 1,
   "metadata": {},
   "outputs": [],
   "source": [
    "import pandas as pd\n",
    "from scipy.stats import pearsonr\n",
    "import matplotlib.pyplot as plt\n",
    "import seaborn as sns"
   ]
  },
  {
   "cell_type": "code",
   "execution_count": 2,
   "metadata": {},
   "outputs": [],
   "source": [
    "# Read data\n",
    "data = pd.read_csv(r'C:\\\\Users\\\\wasim\\\\Downloads\\\\vgsales.csv')\n"
   ]
  },
  {
   "cell_type": "code",
   "execution_count": 3,
   "metadata": {},
   "outputs": [],
   "source": [
    "# Convert data to DataFrame\n",
    "df = pd.DataFrame(data)\n"
   ]
  },
  {
   "cell_type": "code",
   "execution_count": 4,
   "metadata": {},
   "outputs": [
    {
     "name": "stdout",
     "output_type": "stream",
     "text": [
      "Genre and Global_Sales:\n",
      "Correlation : 0.021671439175038762, p-value: 0.005236409211377146\n",
      "Platform and Global_Sales:\n",
      "Correlation: 0.02821341743083179, p-value: 0.00027768381962529583\n"
     ]
    }
   ],
   "source": [
    "# Calculate correlation and p-value between Genre and Global_Sales\n",
    "correlation1, p_value1 = pearsonr(df['Genre'].astype('category').cat.codes, df['Global_Sales'])\n",
    "print('Genre and Global_Sales:')\n",
    "print(f'Correlation : {correlation1}, p-value: {p_value1}')\n",
    "\n",
    "# Calculate correlation and p-value between Platform and Global_Sales\n",
    "correlation2, p_value2 = pearsonr(df['Platform'].astype('category').cat.codes, df['Global_Sales'])\n",
    "print('Platform and Global_Sales:')\n",
    "print(f'Correlation: {correlation2}, p-value: {p_value2}')"
   ]
  },
  {
   "cell_type": "code",
   "execution_count": 5,
   "metadata": {},
   "outputs": [
    {
     "name": "stdout",
     "output_type": "stream",
     "text": [
      "Genre and Global_Sales cross table:\n",
      "Global_Sales  0.01   0.02   0.03   0.04   0.05   0.06   0.07   0.08   0.09   \\\n",
      "Genre                                                                         \n",
      "Action          107    187    154    118     98    117     92     85     87   \n",
      "Adventure       148    211    129     78     73     53     55     38     23   \n",
      "Fighting         25     26     29     32     26     32     28     29     16   \n",
      "Misc             61     99     86     73     70     56     62     56     59   \n",
      "Platform         15     30     36     21     32     19     28     23     27   \n",
      "Puzzle           35     52     29     35     37     31     20     23     16   \n",
      "Racing           42     71     54     40     46     40     32     36     32   \n",
      "Role-Playing     41     83     75     54     60     56     45     43     40   \n",
      "Shooter          31     83     43     45     45     44     32     36     30   \n",
      "Simulation       25     70     57     32     34     37     30     31     17   \n",
      "Sports           50     86     68     69     81     69     55     64     58   \n",
      "Strategy         38     73     51     48     30     23     31     19     29   \n",
      "\n",
      "Global_Sales  0.10   ...  28.31  28.62  29.02  30.01  30.26  31.37  33.00  \\\n",
      "Genre                ...                                                    \n",
      "Action           70  ...      0      0      0      0      0      0      0   \n",
      "Adventure        31  ...      0      0      0      0      0      0      0   \n",
      "Fighting         28  ...      0      0      0      0      0      0      0   \n",
      "Misc             46  ...      0      0      1      0      0      0      0   \n",
      "Platform         19  ...      0      1      0      1      0      0      0   \n",
      "Puzzle           11  ...      0      0      0      0      1      0      0   \n",
      "Racing           38  ...      0      0      0      0      0      0      0   \n",
      "Role-Playing     40  ...      0      0      0      0      0      1      0   \n",
      "Shooter          26  ...      1      0      0      0      0      0      0   \n",
      "Simulation       23  ...      0      0      0      0      0      0      0   \n",
      "Sports           51  ...      0      0      0      0      0      0      1   \n",
      "Strategy         17  ...      0      0      0      0      0      0      0   \n",
      "\n",
      "Global_Sales  35.82  40.24  82.74  \n",
      "Genre                              \n",
      "Action            0      0      0  \n",
      "Adventure         0      0      0  \n",
      "Fighting          0      0      0  \n",
      "Misc              0      0      0  \n",
      "Platform          0      1      0  \n",
      "Puzzle            0      0      0  \n",
      "Racing            1      0      0  \n",
      "Role-Playing      0      0      0  \n",
      "Shooter           0      0      0  \n",
      "Simulation        0      0      0  \n",
      "Sports            0      0      1  \n",
      "Strategy          0      0      0  \n",
      "\n",
      "[12 rows x 623 columns]\n",
      "Platform and Global_Sales Cross Table:\n",
      "Global_Sales  0.01   0.02   0.03   0.04   0.05   0.06   0.07   0.08   0.09   \\\n",
      "Platform                                                                      \n",
      "2600              0      0      0      0      0      0      1      1      0   \n",
      "3DO               0      2      0      0      0      1      0      0      0   \n",
      "3DS              24     26     40     24     16     23     29     22     14   \n",
      "DC                0      1      0      3      3      4      2      3      2   \n",
      "DS               89    165    130    111    122    113     99     85     68   \n",
      "GB                0      0      0      0      0      1      4      0      0   \n",
      "GBA              31     43     58     36     33     32     28     28     15   \n",
      "GC               13     28     20     14     31     23     23     33     17   \n",
      "GEN               0      0      1      2      2      0      3      2      0   \n",
      "GG                0      0      0      1      0      0      0      0      0   \n",
      "N64               2      2      3      8      9     12      6      6      6   \n",
      "NES               0      0      0      0      0      1      1      0      0   \n",
      "NG                0      1      1      1      0      1      1      1      0   \n",
      "PC              105    181    112     83     57     35     26     24     20   \n",
      "PCFX              0      0      1      0      0      0      0      0      0   \n",
      "PS                8     30     34     36     36     30     39     28     32   \n",
      "PS2              67    121     74     66     57     67     54     51     50   \n",
      "PS3              29     60     49     38     28     17     27     23     30   \n",
      "PS4              11     23     13     13     16     16      8     11      8   \n",
      "PSP              92    149     93     78     51     56     34     42     43   \n",
      "PSV              47     60     41     20     31     20     17      6      9   \n",
      "SAT               0      5     10      5      7     11      5     13      8   \n",
      "SCD               0      0      0      0      2      1      1      0      0   \n",
      "SNES              1      3      9      4     11      5      6      4      3   \n",
      "TG16              0      1      0      0      0      0      0      0      0   \n",
      "WS                0      0      1      0      0      0      0      0      0   \n",
      "Wii              29     62     42     38     41     42     34     41     44   \n",
      "WiiU              6      7      9      2      4      4      4      2      6   \n",
      "X360             34     39     32     21     28     25     25     30     27   \n",
      "XB               16     52     32     30     42     33     28     24     30   \n",
      "XOne             14     10      6     11      5      4      5      3      2   \n",
      "\n",
      "Global_Sales  0.10   ...  28.31  28.62  29.02  30.01  30.26  31.37  33.00  \\\n",
      "Platform             ...                                                    \n",
      "2600              0  ...      0      0      0      0      0      0      0   \n",
      "3DO               0  ...      0      0      0      0      0      0      0   \n",
      "3DS              12  ...      0      0      0      0      0      0      0   \n",
      "DC                4  ...      0      0      0      0      0      0      0   \n",
      "DS               82  ...      0      0      0      1      0      0      0   \n",
      "GB                0  ...      0      0      0      0      1      1      0   \n",
      "GBA              14  ...      0      0      0      0      0      0      0   \n",
      "GC               11  ...      0      0      0      0      0      0      0   \n",
      "GEN               0  ...      0      0      0      0      0      0      0   \n",
      "GG                0  ...      0      0      0      0      0      0      0   \n",
      "N64              11  ...      0      0      0      0      0      0      0   \n",
      "NES               0  ...      1      0      0      0      0      0      0   \n",
      "NG                0  ...      0      0      0      0      0      0      0   \n",
      "PC               15  ...      0      0      0      0      0      0      0   \n",
      "PCFX              0  ...      0      0      0      0      0      0      0   \n",
      "PS               26  ...      0      0      0      0      0      0      0   \n",
      "PS2              34  ...      0      0      0      0      0      0      0   \n",
      "PS3              28  ...      0      0      0      0      0      0      0   \n",
      "PS4               6  ...      0      0      0      0      0      0      0   \n",
      "PSP              29  ...      0      0      0      0      0      0      0   \n",
      "PSV               8  ...      0      0      0      0      0      0      0   \n",
      "SAT               5  ...      0      0      0      0      0      0      0   \n",
      "SCD               0  ...      0      0      0      0      0      0      0   \n",
      "SNES              3  ...      0      0      0      0      0      0      0   \n",
      "TG16              0  ...      0      0      0      0      0      0      0   \n",
      "WS                0  ...      0      0      0      0      0      0      0   \n",
      "Wii              39  ...      0      1      1      0      0      0      1   \n",
      "WiiU              0  ...      0      0      0      0      0      0      0   \n",
      "X360             33  ...      0      0      0      0      0      0      0   \n",
      "XB               34  ...      0      0      0      0      0      0      0   \n",
      "XOne              6  ...      0      0      0      0      0      0      0   \n",
      "\n",
      "Global_Sales  35.82  40.24  82.74  \n",
      "Platform                           \n",
      "2600              0      0      0  \n",
      "3DO               0      0      0  \n",
      "3DS               0      0      0  \n",
      "DC                0      0      0  \n",
      "DS                0      0      0  \n",
      "GB                0      0      0  \n",
      "GBA               0      0      0  \n",
      "GC                0      0      0  \n",
      "GEN               0      0      0  \n",
      "GG                0      0      0  \n",
      "N64               0      0      0  \n",
      "NES               0      1      0  \n",
      "NG                0      0      0  \n",
      "PC                0      0      0  \n",
      "PCFX              0      0      0  \n",
      "PS                0      0      0  \n",
      "PS2               0      0      0  \n",
      "PS3               0      0      0  \n",
      "PS4               0      0      0  \n",
      "PSP               0      0      0  \n",
      "PSV               0      0      0  \n",
      "SAT               0      0      0  \n",
      "SCD               0      0      0  \n",
      "SNES              0      0      0  \n",
      "TG16              0      0      0  \n",
      "WS                0      0      0  \n",
      "Wii               1      0      1  \n",
      "WiiU              0      0      0  \n",
      "X360              0      0      0  \n",
      "XB                0      0      0  \n",
      "XOne              0      0      0  \n",
      "\n",
      "[31 rows x 623 columns]\n"
     ]
    }
   ],
   "source": [
    "# Create a cross table between Genre and Global_Sales\n",
    "cross_table1 = pd.crosstab(df['Genre'], df['Global_Sales'])\n",
    "print('Genre and Global_Sales cross table:')\n",
    "print(cross_table1)\n",
    "\n",
    "# Create a cross table between Platform and Global_Sales\n",
    "cross_table2 = pd.crosstab(df['Platform'], df['Global_Sales'])\n",
    "print('Platform and Global_Sales Cross Table:')\n",
    "print(cross_table2)\n"
   ]
  },
  {
   "cell_type": "code",
   "execution_count": 6,
   "metadata": {},
   "outputs": [
    {
     "name": "stdout",
     "output_type": "stream",
     "text": [
      "Genre and Global_Sales pivot table\n",
      "              Global_Sales\n",
      "Genre                     \n",
      "Action             1751.18\n",
      "Adventure           239.04\n",
      "Fighting            448.91\n",
      "Misc                809.96\n",
      "Platform            831.37\n",
      "Puzzle              244.95\n",
      "Racing              732.04\n",
      "Role-Playing        927.37\n",
      "Shooter            1037.37\n",
      "Simulation          392.20\n",
      "Sports             1330.93\n",
      "Strategy            175.12\n",
      "Platform and Global_Sales Pivot Table:\n",
      "          Global_Sales\n",
      "Platform              \n",
      "2600             97.08\n",
      "3DO               0.10\n",
      "3DS             247.46\n",
      "DC               15.97\n",
      "DS              822.49\n",
      "GB              255.45\n",
      "GBA             318.50\n",
      "GC              199.36\n",
      "GEN              28.36\n",
      "GG                0.04\n",
      "N64             218.88\n",
      "NES             251.07\n",
      "NG                1.44\n",
      "PC              258.82\n",
      "PCFX              0.03\n",
      "PS              730.66\n",
      "PS2            1255.64\n",
      "PS3             957.84\n",
      "PS4             278.10\n",
      "PSP             296.28\n",
      "PSV              61.93\n",
      "SAT              33.59\n",
      "SCD               1.87\n",
      "SNES            200.05\n",
      "TG16              0.16\n",
      "WS                1.42\n",
      "Wii             926.71\n",
      "WiiU             81.86\n",
      "X360            979.96\n",
      "XB              258.26\n",
      "XOne            141.06\n"
     ]
    }
   ],
   "source": [
    "# Create a pivot table between Genre and Global_Sales\n",
    "pivot_table1 = df.pivot_table(values='Global_Sales', index='Genre', aggfunc='sum')\n",
    "print('Genre and Global_Sales pivot table')\n",
    "print(pivot_table1)\n",
    "\n",
    "# Create a pivot table between Platform and Global_Sales\n",
    "pivot_table2 = df.pivot_table(values=\"Global_Sales\", index=\"Platform\", aggfunc=\"sum\")\n",
    "print('Platform and Global_Sales Pivot Table:')\n",
    "print(pivot_table2)"
   ]
  },
  {
   "cell_type": "code",
   "execution_count": 7,
   "metadata": {},
   "outputs": [
    {
     "data": {
      "image/png": "[encoded data removed]",
      "text/plain": [
       "<Figure size 1152x576 with 1 Axes>"
      ]
     },
     "metadata": {
      "needs_background": "light"
     },
     "output_type": "display_data"
    },
    {
     "data": {
      "image/png": "[encoded data removed]",
      "text/plain": [
       "<Figure size 1152x576 with 1 Axes>"
      ]
     },
     "metadata": {
      "needs_background": "light"
     },
     "output_type": "display_data"
    }
   ],
   "source": [
    "# Genre and Global_Sales Bar Chart \n",
    "plt.figure(figsize=(16, 8))\n",
    "sns.barplot(x=pivot_table1.index, y=pivot_table1['Global_Sales'])\n",
    "plt.title('Total Global Sales by Genre')\n",
    "plt.xlabel('Genre')\n",
    "plt.ylabel('Total Global Sales (in millions)')\n",
    "plt.show()\n",
    "\n",
    "\n",
    "\n",
    "# Platform and Global_Sales Bar Chart \n",
    "plt.figure(figsize=(16, 8))\n",
    "sns.barplot(x=pivot_table2.index, y=pivot_table2['Global_Sales'])\n",
    "plt.title('Total Global Sales by Platform')\n",
    "plt.xlabel('Platform')\n",
    "plt.ylabel('Total Global Sales (in millions)')\n",
    "plt.show()\n"
   ]
  },
  {
   "cell_type": "code",
   "execution_count": null,
   "metadata": {},
   "outputs": [],
   "source": []
  }
 ],
 "metadata": {
  "kernelspec": {
   "display_name": "Python 3",
   "language": "python",
   "name": "python3"
  },
  "language_info": {
   "codemirror_mode": {
    "name": "ipython",
    "version": 3
   },
   "file_extension": ".py",
   "mimetype": "text/x-python",
   "name": "python",
   "nbconvert_exporter": "python",
   "pygments_lexer": "ipython3",
   "version": "3.8.5"
  }
 },
 "nbformat": 4,
 "nbformat_minor": 4
}
